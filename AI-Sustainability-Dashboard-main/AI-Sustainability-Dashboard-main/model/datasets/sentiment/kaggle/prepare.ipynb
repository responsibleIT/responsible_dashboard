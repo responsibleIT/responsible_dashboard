{
 "cells": [
  {
   "cell_type": "code",
   "execution_count": 17,
   "metadata": {},
   "outputs": [],
   "source": [
    "import pandas as pd"
   ]
  },
  {
   "cell_type": "code",
   "execution_count": 18,
   "metadata": {},
   "outputs": [
    {
     "name": "stdout",
     "output_type": "stream",
     "text": [
      "       textID                                               text sentiment  \\\n",
      "0  f87dea47db  Last session of the day  http://twitpic.com/67ezh   neutral   \n",
      "1  96d74cb729   Shanghai is also really exciting (precisely -...  positive   \n",
      "2  eee518ae67  Recession hit Veronique Branquinho, she has to...  negative   \n",
      "3  01082688c6                                        happy bday!  positive   \n",
      "4  33987a8ee5             http://twitpic.com/4w75p - I like it!!  positive   \n",
      "\n",
      "  Time of Tweet Age of User      Country  Population -2020  Land Area (Km²)  \\\n",
      "0       morning        0-20  Afghanistan        38928346.0         652860.0   \n",
      "1          noon       21-30      Albania         2877797.0          27400.0   \n",
      "2         night       31-45      Algeria        43851044.0        2381740.0   \n",
      "3       morning       46-60      Andorra           77265.0            470.0   \n",
      "4          noon       60-70       Angola        32866272.0        1246700.0   \n",
      "\n",
      "   Density (P/Km²)  \n",
      "0             60.0  \n",
      "1            105.0  \n",
      "2             18.0  \n",
      "3            164.0  \n",
      "4             26.0  \n"
     ]
    }
   ],
   "source": [
    "# Load the test.csv file with ISO-8859-1 encoding\n",
    "df = pd.read_csv('test.csv', encoding='ISO-8859-1')\n",
    "\n",
    "# Print the first 5 rows of the dataframe\n",
    "print(df.head())"
   ]
  },
  {
   "cell_type": "code",
   "execution_count": 19,
   "metadata": {},
   "outputs": [
    {
     "name": "stdout",
     "output_type": "stream",
     "text": [
      "                                                text     label\n",
      "0  Last session of the day  http://twitpic.com/67ezh   neutral\n",
      "1   Shanghai is also really exciting (precisely -...  positive\n",
      "2  Recession hit Veronique Branquinho, she has to...  negative\n",
      "3                                        happy bday!  positive\n",
      "4             http://twitpic.com/4w75p - I like it!!  positive\n"
     ]
    }
   ],
   "source": [
    "label_to_index = {\n",
    "    'negative': 0,\n",
    "    'neutral': 1,\n",
    "    'positive': 2\n",
    "}\n",
    "\n",
    "# Only keep the text and sentiment columns\n",
    "df = df[['text', 'sentiment']]\n",
    "\n",
    "# Rename sentiment to label\n",
    "df = df.rename(columns={'sentiment': 'label'})\n",
    "\n",
    "# Remove rows with missing labels outside of the mapping\n",
    "df = df[df['label'].isin(label_to_index.keys())]\n",
    "\n",
    "print(df.head())"
   ]
  },
  {
   "cell_type": "code",
   "execution_count": null,
   "metadata": {},
   "outputs": [
    {
     "name": "stdout",
     "output_type": "stream",
     "text": [
      "                                                text  label\n",
      "0  Last session of the day  http://twitpic.com/67ezh      1\n",
      "1   Shanghai is also really exciting (precisely -...      2\n",
      "2  Recession hit Veronique Branquinho, she has to...      0\n",
      "3                                        happy bday!      2\n",
      "4             http://twitpic.com/4w75p - I like it!!      2\n"
     ]
    }
   ],
   "source": [
    "df['label'] = df['label'].map(label_to_index).astype(int)\n",
    "\n",
    "print(df.head())"
   ]
  },
  {
   "cell_type": "code",
   "execution_count": 21,
   "metadata": {},
   "outputs": [],
   "source": [
    "# Save the cleaned data to a new file\n",
    "df.to_csv('cleaned_test.csv', index=False)"
   ]
  }
 ],
 "metadata": {
  "kernelspec": {
   "display_name": "maai",
   "language": "python",
   "name": "python3"
  },
  "language_info": {
   "codemirror_mode": {
    "name": "ipython",
    "version": 3
   },
   "file_extension": ".py",
   "mimetype": "text/x-python",
   "name": "python",
   "nbconvert_exporter": "python",
   "pygments_lexer": "ipython3",
   "version": "3.11.8"
  }
 },
 "nbformat": 4,
 "nbformat_minor": 2
}
