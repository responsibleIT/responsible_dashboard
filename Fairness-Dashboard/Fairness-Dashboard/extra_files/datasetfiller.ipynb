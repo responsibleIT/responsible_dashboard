{
 "cells": [
  {
   "cell_type": "code",
   "execution_count": 1,
   "metadata": {},
   "outputs": [
    {
     "name": "stdout",
     "output_type": "stream",
     "text": [
      "Loading dataset from ../flask_ml/data/Income_dataset.csv...\n",
      "Original dataset has 48842 rows and 14 columns\n",
      "Saved original dataset to ../flask_ml/data\\original_dataset.csv\n",
      "Saved 2x dataset with 97684 rows to ../flask_ml/data\\dataset_2x.csv\n",
      "Saved 4x dataset with 195368 rows to ../flask_ml/data\\dataset_4x.csv\n",
      "Saved 8x dataset with 390736 rows to ../flask_ml/data\\dataset_8x.csv\n",
      "All dataset versions have been created successfully!\n"
     ]
    }
   ],
   "source": [
    "import pandas as pd\n",
    "import numpy as np\n",
    "import os\n",
    "\n",
    "# Load the original dataset\n",
    "def load_and_multiply_dataset(input_path, multipliers=[2, 4, 8]):\n",
    "    # Create output directory if it doesn't exist\n",
    "    output_dir = os.path.dirname(input_path)\n",
    "    \n",
    "    # Load the original dataset\n",
    "    print(f\"Loading dataset from {input_path}...\")\n",
    "    df = pd.read_csv(input_path)\n",
    "    original_rows = len(df)\n",
    "    print(f\"Original dataset has {original_rows} rows and {len(df.columns)} columns\")\n",
    "    \n",
    "    # Save the original as a reference (optional)\n",
    "    original_output = os.path.join(output_dir, 'original_dataset.csv')\n",
    "    df.to_csv(original_output, index=False)\n",
    "    print(f\"Saved original dataset to {original_output}\")\n",
    "    \n",
    "    # Create and save multiplied versions\n",
    "    for multiplier in multipliers:\n",
    "        # Calculate how many copies we need to make\n",
    "        copies_needed = multiplier\n",
    "        \n",
    "        # Create the multiplied dataframe\n",
    "        multiplied_df = df.copy()\n",
    "        \n",
    "        # Append copies with randomized values\n",
    "        for _ in range(copies_needed - 1):\n",
    "            # For each row in the original dataset, we'll create a new row\n",
    "            # by randomly sampling values from the original dataset for each column\n",
    "            new_rows = []\n",
    "            \n",
    "            for col in df.columns:\n",
    "                # Sample random values from the original column\n",
    "                random_values = np.random.choice(df[col].values, size=original_rows)\n",
    "                new_rows.append(random_values)\n",
    "            \n",
    "            # Convert to DataFrame and ensure it has the same columns as original\n",
    "            new_df = pd.DataFrame(dict(zip(df.columns, new_rows)))\n",
    "            \n",
    "            # Add to the multiplied dataframe\n",
    "            multiplied_df = pd.concat([multiplied_df, new_df], ignore_index=True)\n",
    "        \n",
    "        # Save the multiplied dataset\n",
    "        output_path = os.path.join(output_dir, f'dataset_{multiplier}x.csv')\n",
    "        multiplied_df.to_csv(output_path, index=False)\n",
    "        print(f\"Saved {multiplier}x dataset with {len(multiplied_df)} rows to {output_path}\")\n",
    "\n",
    "if __name__ == \"__main__\":\n",
    "    # Path to the dataset\n",
    "    dataset_path = '../flask_ml/data/Income_dataset.csv'\n",
    "    \n",
    "    # Create 2x, 4x, and 8x versions\n",
    "    load_and_multiply_dataset(dataset_path, multipliers=[2, 4, 8])\n",
    "    \n",
    "    print(\"All dataset versions have been created successfully!\")"
   ]
  }
 ],
 "metadata": {
  "kernelspec": {
   "display_name": "Python 3",
   "language": "python",
   "name": "python3"
  },
  "language_info": {
   "codemirror_mode": {
    "name": "ipython",
    "version": 3
   },
   "file_extension": ".py",
   "mimetype": "text/x-python",
   "name": "python",
   "nbconvert_exporter": "python",
   "pygments_lexer": "ipython3",
   "version": "3.12.9"
  }
 },
 "nbformat": 4,
 "nbformat_minor": 2
}
